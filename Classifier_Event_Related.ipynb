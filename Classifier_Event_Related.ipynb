{
 "cells": [
  {
   "cell_type": "markdown",
   "metadata": {},
   "source": [
    "### **Analysis of Classifiers**\n",
    "Date: Mar 9, 2019 | Version: 2.1"
   ]
  },
  {
   "cell_type": "markdown",
   "metadata": {},
   "source": [
    "Contains code for event related analysis."
   ]
  },
  {
   "cell_type": "markdown",
   "metadata": {},
   "source": [
    "#### **Code**"
   ]
  },
  {
   "cell_type": "code",
   "execution_count": 2,
   "metadata": {},
   "outputs": [],
   "source": [
    "import os\n",
    "import pandas as pd\n",
    "import numpy as np\n",
    "import nipy\n",
    "from mvpa2.suite import * # Production code should import functions individually."
   ]
  },
  {
   "cell_type": "markdown",
   "metadata": {},
   "source": [
    "#### Load Data"
   ]
  },
  {
   "cell_type": "code",
   "execution_count": 4,
   "metadata": {},
   "outputs": [
    {
     "name": "stdout",
     "output_type": "stream",
     "text": [
      "/home/fmri-data/mvpa_1/run1_native.nii.gz\n",
      "/home/fmri-data/mvpa_1/run2_native.nii.gz\n",
      "/home/fmri-data/mvpa_1/run3_native.nii.gz\n",
      "/home/fmri-data/mvpa_1/run4_native.nii.gz\n",
      "/home/fmri-data/mvpa_1/run5_native.nii.gz\n",
      "/home/fmri-data/mvpa_1/run6_native.nii.gz\n",
      "/home/fmri-data/mvpa_1/run7_native.nii.gz\n",
      "/home/fmri-data/mvpa_1/run8_native.nii.gz\n",
      "/home/fmri-data/mvpa_1/run9_native.nii.gz\n",
      "/home/fmri-data/mvpa_1/run10_native.nii.gz\n"
     ]
    }
   ],
   "source": [
    "cwd = '/home/fmri-data'\n",
    "data_path = os.path.join(cwd,\"mvpa_1\")\n",
    "\n",
    "# Load the sample attributes\n",
    "attr_fname = \"targets_attr_mvpa_1.txt\"\n",
    "attr_path = os.path.join(data_path, attr_fname)\n",
    "# attr = SampleAttributes(attr_path) # PyMVPA convenience function to read attribute files.\n",
    "\n",
    "# Load all 10 runs from one subject into one fMRI dataset\n",
    "file_path_list = list() # file path list to each run\n",
    "for i in range(1,11):\n",
    "    run_name = \"run\"+str(i)\n",
    "    fname = run_name +\"_native.nii.gz\"\n",
    "    filepath = os.path.join(data_path, fname)\n",
    "    print filepath\n",
    "    file_path_list.append(filepath)\n",
    "    \n",
    "# fMRI dataset format is convenient and vital for using PyMVPA.\n",
    "ds = fmri_dataset(file_path_list,targets=attr.targets,chunks=attr.chunks)"
   ]
  },
  {
   "cell_type": "code",
   "execution_count": 3,
   "metadata": {},
   "outputs": [],
   "source": [
    "fsel = SensitivityBasedFeatureSelection(\n",
    "           OneWayAnova(),\n",
    "           FixedNElementTailSelector(500, mode='select', tail='upper'))"
   ]
  },
  {
   "cell_type": "code",
   "execution_count": 4,
   "metadata": {},
   "outputs": [
    {
     "name": "stdout",
     "output_type": "stream",
     "text": [
      "(1900, 500)\n"
     ]
    },
    {
     "name": "stderr",
     "output_type": "stream",
     "text": [
      "/root/anaconda2/lib/python2.7/site-packages/mvpa2/measures/anova.py:117: RuntimeWarning: divide by zero encountered in divide\n",
      "  f = msb / msw\n",
      "/root/anaconda2/lib/python2.7/site-packages/mvpa2/measures/anova.py:117: RuntimeWarning: invalid value encountered in divide\n",
      "  f = msb / msw\n"
     ]
    }
   ],
   "source": [
    "fsel.train(ds)\n",
    "ds = fsel(ds) # free up some memory by overwritting\n",
    "print ds.shape # notice voxel count is much lower"
   ]
  },
  {
   "cell_type": "code",
   "execution_count": 5,
   "metadata": {},
   "outputs": [
    {
     "name": "stderr",
     "output_type": "stream",
     "text": [
      "/root/anaconda2/lib/python2.7/site-packages/mvpa2/mappers/detrend.py:325: FutureWarning: `rcond` parameter will change to the default of machine precision times ``max(M, N)`` where M and N are the input matrix dimensions.\n",
      "To use the future default and silence this warning we advise to pass `rcond=None`, to keep using the old, explicitly pass `rcond=-1`.\n",
      "  fit = np.linalg.lstsq(regs, ds.samples)\n"
     ]
    }
   ],
   "source": [
    "poly_detrend(ds,polyord=1,chunks_attr='chunks')"
   ]
  },
  {
   "cell_type": "markdown",
   "metadata": {},
   "source": [
    "Convert continuous time series to list of events"
   ]
  },
  {
   "cell_type": "code",
   "execution_count": 6,
   "metadata": {},
   "outputs": [],
   "source": [
    "events_orig = find_events(targets=ds.sa.targets, chunks=ds.sa.chunks)"
   ]
  },
  {
   "cell_type": "markdown",
   "metadata": {},
   "source": [
    "A peek into what the list looks like:"
   ]
  },
  {
   "cell_type": "code",
   "execution_count": 7,
   "metadata": {},
   "outputs": [
    {
     "name": "stdout",
     "output_type": "stream",
     "text": [
      "{'chunks': 0.0, 'duration': 1, 'onset': 0, 'targets': 'baseline_catch_all'}\n",
      "{'chunks': 0.0, 'duration': 1, 'onset': 1, 'targets': 'target_miss'}\n",
      "{'chunks': 0.0, 'duration': 8, 'onset': 2, 'targets': 'baseline_catch_all'}\n",
      "{'chunks': 0.0, 'duration': 1, 'onset': 10, 'targets': 'target_hit'}\n",
      "{'chunks': 0.0, 'duration': 5, 'onset': 11, 'targets': 'baseline_catch_all'}\n"
     ]
    }
   ],
   "source": [
    "for e in events_orig[:5]:\n",
    "...    print e"
   ]
  },
  {
   "cell_type": "code",
   "execution_count": 8,
   "metadata": {},
   "outputs": [],
   "source": [
    "for ev in events_orig:\n",
    "    ev['duration'] = 5"
   ]
  },
  {
   "cell_type": "code",
   "execution_count": 9,
   "metadata": {},
   "outputs": [],
   "source": [
    "TR = np.median(np.diff(ds.sa.time_coords))\n",
    "for ev in events_orig:\n",
    "    ev['onset'] = (ev['onset'] * TR)\n",
    "    ev['duration'] = ev['duration'] * TR"
   ]
  },
  {
   "cell_type": "markdown",
   "metadata": {},
   "source": [
    "#### Subset event list\n",
    "Create a subset for binary classification and another for multi-class classification"
   ]
  },
  {
   "cell_type": "code",
   "execution_count": 10,
   "metadata": {},
   "outputs": [],
   "source": [
    "events_binary = [ev for ev in events_orig if ev['targets'] in ['target_hit', 'target_miss']]"
   ]
  },
  {
   "cell_type": "code",
   "execution_count": 11,
   "metadata": {},
   "outputs": [],
   "source": [
    "events_multi = [ev for ev in events_orig if ev['targets'] in ['target_hit', 'target_miss','lure_false_alarm','lure_correct_rejection']] "
   ]
  },
  {
   "cell_type": "code",
   "execution_count": 12,
   "metadata": {},
   "outputs": [],
   "source": [
    "# checking what labels are in the dataset\n",
    "ev_list = []\n",
    "for ev in events_multi:\n",
    "    ev_list.append(ev['targets'])"
   ]
  },
  {
   "cell_type": "code",
   "execution_count": 13,
   "metadata": {},
   "outputs": [
    {
     "data": {
      "text/plain": [
       "(array(['lure_correct_rejection', 'lure_false_alarm', 'target_hit',\n",
       "        'target_miss'], dtype='|S22'), array([116,  24, 133,   7]))"
      ]
     },
     "execution_count": 13,
     "metadata": {},
     "output_type": "execute_result"
    }
   ],
   "source": [
    "np.unique(ev_list, return_counts=True)"
   ]
  },
  {
   "cell_type": "markdown",
   "metadata": {},
   "source": [
    "#### Get GLM parameter estimates"
   ]
  },
  {
   "cell_type": "code",
   "execution_count": 14,
   "metadata": {},
   "outputs": [
    {
     "name": "stderr",
     "output_type": "stream",
     "text": [
      "/root/anaconda2/lib/python2.7/site-packages/nipy/modalities/fmri/hemodynamic_models.py:180: DeprecationWarning: object of type <type 'numpy.float64'> cannot be safely interpreted as an integer.\n",
      "  n_hr)\n",
      "/root/anaconda2/lib/python2.7/site-packages/nipy/modalities/fmri/hemodynamic_models.py:37: DeprecationWarning: object of type <type 'float'> cannot be safely interpreted as an integer.\n",
      "  time_stamps = np.linspace(0, time_length, float(time_length) / dt)\n"
     ]
    }
   ],
   "source": [
    "evds_binary = fit_event_hrf_model(ds,\n",
    "                           events_binary,\n",
    "                           time_attr='time_coords',\n",
    "                           condition_attr=('onset','targets', 'chunks'))\n",
    "\n",
    "evds_multi = fit_event_hrf_model(ds,\n",
    "                           events_multi,\n",
    "                           time_attr='time_coords',\n",
    "                           condition_attr=('onset','targets', 'chunks'))"
   ]
  },
  {
   "cell_type": "code",
   "execution_count": 15,
   "metadata": {},
   "outputs": [
    {
     "data": {
      "text/plain": [
       "(280, 500)"
      ]
     },
     "execution_count": 15,
     "metadata": {},
     "output_type": "execute_result"
    }
   ],
   "source": [
    "evds_multi.shape"
   ]
  },
  {
   "cell_type": "code",
   "execution_count": 16,
   "metadata": {},
   "outputs": [
    {
     "data": {
      "text/plain": [
       "(140, 500)"
      ]
     },
     "execution_count": 16,
     "metadata": {},
     "output_type": "execute_result"
    }
   ],
   "source": [
    "evds_binary.shape"
   ]
  },
  {
   "cell_type": "code",
   "execution_count": 17,
   "metadata": {},
   "outputs": [],
   "source": [
    "zscore(evds_binary, chunks_attr=None)\n",
    "zscore(evds_multi, chunks_attr=None)"
   ]
  },
  {
   "cell_type": "markdown",
   "metadata": {},
   "source": [
    "#### Multi-class classification"
   ]
  },
  {
   "cell_type": "markdown",
   "metadata": {},
   "source": [
    "#### Logistic Regression (Multi-class classification)"
   ]
  },
  {
   "cell_type": "code",
   "execution_count": 18,
   "metadata": {},
   "outputs": [],
   "source": [
    "from sklearn.linear_model.logistic import LogisticRegression "
   ]
  },
  {
   "cell_type": "code",
   "execution_count": 19,
   "metadata": {},
   "outputs": [],
   "source": [
    "base_clf_skl_logreg = LogisticRegression(multi_class='multinomial',solver='lbfgs')\n",
    "# Default solver is liblinear which doesn't support multinomial loss function?\n",
    "\n",
    "skl_logreg_clf=SKLLearnerAdapter(base_clf_skl_logreg)"
   ]
  },
  {
   "cell_type": "code",
   "execution_count": 20,
   "metadata": {},
   "outputs": [],
   "source": [
    "cv_logreg_skl = CrossValidation(skl_logreg_clf, NFoldPartitioner(),\n",
    "                             errorfx=mean_match_accuracy,\n",
    "                            enable_ca=['stats'])"
   ]
  },
  {
   "cell_type": "code",
   "execution_count": 21,
   "metadata": {},
   "outputs": [
    {
     "name": "stderr",
     "output_type": "stream",
     "text": [
      "/root/anaconda2/lib/python2.7/site-packages/mvpa2/misc/attrmap.py:153: FutureWarning: Conversion of the second argument of issubdtype from `str` to `str` is deprecated. In future, it will be treated as `np.string_ == np.dtype(str).type`.\n",
      "  if not np.issubdtype(attr.dtype, str) and not self.mapnumeric:\n",
      "/root/anaconda2/lib/python2.7/site-packages/sklearn/linear_model/logistic.py:758: ConvergenceWarning: lbfgs failed to converge. Increase the number of iterations.\n",
      "  \"of iterations.\", ConvergenceWarning)\n",
      "/root/anaconda2/lib/python2.7/site-packages/sklearn/linear_model/logistic.py:758: ConvergenceWarning: lbfgs failed to converge. Increase the number of iterations.\n",
      "  \"of iterations.\", ConvergenceWarning)\n",
      "/root/anaconda2/lib/python2.7/site-packages/sklearn/linear_model/logistic.py:758: ConvergenceWarning: lbfgs failed to converge. Increase the number of iterations.\n",
      "  \"of iterations.\", ConvergenceWarning)\n",
      "/root/anaconda2/lib/python2.7/site-packages/sklearn/linear_model/logistic.py:758: ConvergenceWarning: lbfgs failed to converge. Increase the number of iterations.\n",
      "  \"of iterations.\", ConvergenceWarning)\n",
      "/root/anaconda2/lib/python2.7/site-packages/sklearn/linear_model/logistic.py:758: ConvergenceWarning: lbfgs failed to converge. Increase the number of iterations.\n",
      "  \"of iterations.\", ConvergenceWarning)\n",
      "/root/anaconda2/lib/python2.7/site-packages/sklearn/linear_model/logistic.py:758: ConvergenceWarning: lbfgs failed to converge. Increase the number of iterations.\n",
      "  \"of iterations.\", ConvergenceWarning)\n",
      "/root/anaconda2/lib/python2.7/site-packages/sklearn/linear_model/logistic.py:758: ConvergenceWarning: lbfgs failed to converge. Increase the number of iterations.\n",
      "  \"of iterations.\", ConvergenceWarning)\n"
     ]
    },
    {
     "name": "stdout",
     "output_type": "stream",
     "text": [
      "0.40714285714285714\n",
      "[[55 14 71  3]\n",
      " [ 2  0  3  0]\n",
      " [59 10 59  4]\n",
      " [ 0  0  0  0]]\n"
     ]
    },
    {
     "name": "stderr",
     "output_type": "stream",
     "text": [
      "/root/anaconda2/lib/python2.7/site-packages/sklearn/linear_model/logistic.py:758: ConvergenceWarning: lbfgs failed to converge. Increase the number of iterations.\n",
      "  \"of iterations.\", ConvergenceWarning)\n",
      "/root/anaconda2/lib/python2.7/site-packages/sklearn/linear_model/logistic.py:758: ConvergenceWarning: lbfgs failed to converge. Increase the number of iterations.\n",
      "  \"of iterations.\", ConvergenceWarning)\n",
      "/root/anaconda2/lib/python2.7/site-packages/sklearn/linear_model/logistic.py:758: ConvergenceWarning: lbfgs failed to converge. Increase the number of iterations.\n",
      "  \"of iterations.\", ConvergenceWarning)\n",
      "/root/anaconda2/lib/python2.7/site-packages/mvpa2/clfs/transerror.py:685: RuntimeWarning: invalid value encountered in divide\n",
      "  stats['PPV'] = stats['TP'] / (1.0*stats[\"P'\"])\n",
      "/root/anaconda2/lib/python2.7/site-packages/mvpa2/clfs/transerror.py:687: RuntimeWarning: invalid value encountered in divide\n",
      "  stats['FDR'] = stats['FP'] / (1.0*stats[\"P'\"])\n",
      "/root/anaconda2/lib/python2.7/site-packages/mvpa2/clfs/transerror.py:718: RuntimeWarning: invalid value encountered in divide\n",
      "  for m in mat_all]\n",
      "/root/anaconda2/lib/python2.7/site-packages/mvpa2/clfs/transerror.py:722: RuntimeWarning: invalid value encountered in divide\n",
      "  for m in mat_all]\n"
     ]
    }
   ],
   "source": [
    "cv_logreg_skl_results = cv_logreg_skl(evds_multi)\n",
    "print np.mean(cv_logreg_skl_results) # mean accuracy\n",
    "print cv_logreg_skl.ca.stats.matrix"
   ]
  },
  {
   "cell_type": "markdown",
   "metadata": {},
   "source": [
    "#### LASSO Multinomial Logistic Regression (Multi-class classification)"
   ]
  },
  {
   "cell_type": "code",
   "execution_count": 22,
   "metadata": {},
   "outputs": [],
   "source": [
    "from sklearn.linear_model import LogisticRegression"
   ]
  },
  {
   "cell_type": "code",
   "execution_count": 23,
   "metadata": {},
   "outputs": [],
   "source": [
    "skl_lasso = LogisticRegression(C=0.5,penalty='l1',multi_class='multinomial'\n",
    "                               ,solver='saga',max_iter=10000)\n",
    "wrapped_lasso_clf=SKLLearnerAdapter(skl_lasso)\n",
    "cv_lasso = CrossValidation(wrapped_lasso_clf, NFoldPartitioner(),\n",
    "                             errorfx=mean_match_accuracy,\n",
    "                            enable_ca=['stats'])"
   ]
  },
  {
   "cell_type": "code",
   "execution_count": 24,
   "metadata": {},
   "outputs": [
    {
     "name": "stdout",
     "output_type": "stream",
     "text": [
      "0.41785714285714287\n"
     ]
    },
    {
     "data": {
      "text/plain": [
       "array([[61, 11, 72,  2],\n",
       "       [ 2,  1,  6,  1],\n",
       "       [53, 12, 55,  4],\n",
       "       [ 0,  0,  0,  0]])"
      ]
     },
     "execution_count": 24,
     "metadata": {},
     "output_type": "execute_result"
    }
   ],
   "source": [
    "cv_lasso_results = cv_lasso(evds_multi) \n",
    "print np.mean(cv_lasso_results)\n",
    "cv_lasso.ca.stats.matrix"
   ]
  },
  {
   "cell_type": "markdown",
   "metadata": {},
   "source": [
    "#### PyMVPA KNN Classifier (Multi-class classification)"
   ]
  },
  {
   "cell_type": "code",
   "execution_count": 25,
   "metadata": {},
   "outputs": [],
   "source": [
    "clfKNN_mvpa = mvpa2.clfs.knn.kNN(k=5, dfx=one_minus_correlation, voting='majority')"
   ]
  },
  {
   "cell_type": "code",
   "execution_count": 26,
   "metadata": {},
   "outputs": [],
   "source": [
    "cv_knn_mvpa = CrossValidation(clfKNN_mvpa, NFoldPartitioner(),\n",
    "                             errorfx=mean_match_accuracy,\n",
    "                            enable_ca=['stats'])"
   ]
  },
  {
   "cell_type": "code",
   "execution_count": 27,
   "metadata": {},
   "outputs": [
    {
     "name": "stdout",
     "output_type": "stream",
     "text": [
      "0.4357142857142858\n",
      "[[52 13 61  3]\n",
      " [ 6  0  1  1]\n",
      " [58 11 70  3]\n",
      " [ 0  0  1  0]]\n"
     ]
    }
   ],
   "source": [
    "cv_knn_mvpa_results = cv_knn_mvpa(evds_multi)\n",
    "print np.mean(cv_knn_mvpa_results) # mean accuracy\n",
    "print cv_knn_mvpa.ca.stats.matrix # Confusion matrix"
   ]
  },
  {
   "cell_type": "markdown",
   "metadata": {},
   "source": [
    "#### Scikit-learn KNN Classifier (Multiclass classification)"
   ]
  },
  {
   "cell_type": "code",
   "execution_count": 28,
   "metadata": {},
   "outputs": [],
   "source": [
    "from sklearn import neighbors"
   ]
  },
  {
   "cell_type": "code",
   "execution_count": 29,
   "metadata": {},
   "outputs": [],
   "source": [
    "k_neighbors = 5\n",
    "\n",
    "# weights = 'uniform' means each neighbor has equal voting power so we can get simple majority\n",
    "clf = neighbors.KNeighborsClassifier(k_neighbors, metric = 'euclidean',weights='uniform')\n",
    "wrapped_clf=SKLLearnerAdapter(clf)"
   ]
  },
  {
   "cell_type": "code",
   "execution_count": 30,
   "metadata": {},
   "outputs": [],
   "source": [
    "cv_knn_skl = CrossValidation(wrapped_clf, NFoldPartitioner(),\n",
    "                             errorfx=mean_match_accuracy,\n",
    "                            enable_ca=['stats'])"
   ]
  },
  {
   "cell_type": "code",
   "execution_count": 31,
   "metadata": {},
   "outputs": [
    {
     "name": "stdout",
     "output_type": "stream",
     "text": [
      "0.43571428571428567\n",
      "[[82 17 92  1]\n",
      " [ 1  1  2  0]\n",
      " [33  6 39  6]\n",
      " [ 0  0  0  0]]\n"
     ]
    }
   ],
   "source": [
    "cv_knn_skl_results = cv_knn_skl(evds_multi)\n",
    "print np.mean(cv_knn_skl_results) # mean accuracy\n",
    "print cv_knn_skl.ca.stats.matrix # Confusion matrix"
   ]
  },
  {
   "cell_type": "markdown",
   "metadata": {},
   "source": [
    "#### Scikit-learn Linear Kernel C-SVM (Multi-class classification)"
   ]
  },
  {
   "cell_type": "code",
   "execution_count": 32,
   "metadata": {},
   "outputs": [],
   "source": [
    "from sklearn.svm import LinearSVC"
   ]
  },
  {
   "cell_type": "code",
   "execution_count": 33,
   "metadata": {},
   "outputs": [],
   "source": [
    "base_skl_lsvc_clf = LinearSVC(C=1) \n",
    "# Try ovr vs ovc if doing multi-class classification\n",
    "# Need to tune parameters C, tolerance, etc and try different kernels\n",
    "# Also test different variants of svm\n",
    "\n",
    "skl_lsvc_clf = SKLLearnerAdapter(base_skl_lsvc_clf)"
   ]
  },
  {
   "cell_type": "code",
   "execution_count": 34,
   "metadata": {},
   "outputs": [],
   "source": [
    "cv_lsvc_skl = CrossValidation(skl_lsvc_clf, NFoldPartitioner(),\n",
    "                             errorfx=mean_match_accuracy,\n",
    "                            enable_ca=['stats'])"
   ]
  },
  {
   "cell_type": "code",
   "execution_count": 35,
   "metadata": {},
   "outputs": [
    {
     "name": "stdout",
     "output_type": "stream",
     "text": [
      "0.2571428571428571\n",
      "[[34  6 32  2]\n",
      " [37  6 39  1]\n",
      " [31  5 29  1]\n",
      " [14  7 33  3]]\n"
     ]
    }
   ],
   "source": [
    "cv_lsvc_skl_results = cv_lsvc_skl(evds_multi)\n",
    "print np.mean(cv_lsvc_skl_results) # mean accuracy\n",
    "print cv_lsvc_skl.ca.stats.matrix"
   ]
  },
  {
   "cell_type": "markdown",
   "metadata": {},
   "source": [
    "#### Binary Classification"
   ]
  },
  {
   "cell_type": "code",
   "execution_count": 36,
   "metadata": {},
   "outputs": [
    {
     "name": "stdout",
     "output_type": "stream",
     "text": [
      "0.95\n",
      "[[133   7]\n",
      " [  0   0]]\n"
     ]
    },
    {
     "name": "stderr",
     "output_type": "stream",
     "text": [
      "/root/anaconda2/lib/python2.7/site-packages/mvpa2/clfs/transerror.py:686: RuntimeWarning: invalid value encountered in divide\n",
      "  stats['NPV'] = stats['TN'] / (1.0*stats[\"N'\"])\n",
      "/root/anaconda2/lib/python2.7/site-packages/mvpa2/misc/errorfx.py:147: RuntimeWarning: invalid value encountered in divide\n",
      "  ([0], np.cumsum(~t)/(~t).sum(dtype=np.float), [1]))\n",
      "/root/anaconda2/lib/python2.7/site-packages/mvpa2/misc/errorfx.py:143: RuntimeWarning: invalid value encountered in divide\n",
      "  ([0], np.cumsum(t)/t.sum(dtype=np.float), [1]))\n"
     ]
    }
   ],
   "source": [
    "cv_logreg_skl_results = cv_logreg_skl(evds_binary)\n",
    "print np.mean(cv_logreg_skl_results) # mean accuracy\n",
    "print cv_logreg_skl.ca.stats.matrix"
   ]
  },
  {
   "cell_type": "code",
   "execution_count": 37,
   "metadata": {},
   "outputs": [
    {
     "name": "stdout",
     "output_type": "stream",
     "text": [
      "0.95\n",
      "[[133   7]\n",
      " [  0   0]]\n"
     ]
    }
   ],
   "source": [
    "cv_lasso_results = cv_lasso(evds_binary) \n",
    "print np.mean(cv_lasso_results)\n",
    "print cv_lasso.ca.stats.matrix"
   ]
  },
  {
   "cell_type": "code",
   "execution_count": 38,
   "metadata": {},
   "outputs": [
    {
     "name": "stdout",
     "output_type": "stream",
     "text": [
      "0.95\n",
      "[[133   7]\n",
      " [  0   0]]\n"
     ]
    }
   ],
   "source": [
    "cv_knn_mvpa_results = cv_knn_mvpa(evds_binary)\n",
    "print np.mean(cv_knn_mvpa_results) # mean accuracy\n",
    "print cv_knn_mvpa.ca.stats.matrix # Confusion matrix"
   ]
  },
  {
   "cell_type": "code",
   "execution_count": 39,
   "metadata": {},
   "outputs": [
    {
     "name": "stdout",
     "output_type": "stream",
     "text": [
      "0.95\n",
      "[[133   7]\n",
      " [  0   0]]\n"
     ]
    }
   ],
   "source": [
    "cv_knn_skl_results = cv_knn_skl(evds_binary)\n",
    "print np.mean(cv_knn_skl_results) # mean accuracy\n",
    "print cv_knn_skl.ca.stats.matrix # Confusion matrix"
   ]
  },
  {
   "cell_type": "code",
   "execution_count": 40,
   "metadata": {},
   "outputs": [
    {
     "name": "stdout",
     "output_type": "stream",
     "text": [
      "0.09285714285714283\n",
      "[[  6   0]\n",
      " [127   7]]\n"
     ]
    }
   ],
   "source": [
    "cv_lsvc_skl_results = cv_lsvc_skl(evds_binary)\n",
    "print np.mean(cv_lsvc_skl_results) # mean accuracy\n",
    "print cv_lsvc_skl.ca.stats.matrix"
   ]
  }
 ],
 "metadata": {
  "kernelspec": {
   "display_name": "Python 2",
   "language": "python",
   "name": "python2"
  },
  "language_info": {
   "codemirror_mode": {
    "name": "ipython",
    "version": 2
   },
   "file_extension": ".py",
   "mimetype": "text/x-python",
   "name": "python",
   "nbconvert_exporter": "python",
   "pygments_lexer": "ipython2",
   "version": "2.7.15"
  }
 },
 "nbformat": 4,
 "nbformat_minor": 2
}
