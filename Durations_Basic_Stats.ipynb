{
 "cells": [
  {
   "cell_type": "code",
   "execution_count": 111,
   "metadata": {},
   "outputs": [],
   "source": [
    "import numpy as np\n",
    "import pandas as pd\n",
    "from scipy import stats\n",
    "import matplotlib.pyplot as plt"
   ]
  },
  {
   "cell_type": "code",
   "execution_count": 115,
   "metadata": {},
   "outputs": [
    {
     "data": {
      "text/plain": [
       "DescribeResult(nobs=13705, minmax=(4, 24), mean=5.8165632980663995, variance=3.43190602242695, skewness=1.25661071866711, kurtosis=2.6232197188051147)"
      ]
     },
     "execution_count": 115,
     "metadata": {},
     "output_type": "execute_result"
    }
   ],
   "source": [
    "def get_duration(attribute_events):\n",
    "    events_index = []\n",
    "    for i, e in enumerate(attribute_events):\n",
    "        if e != 'baseline_catch_all':\n",
    "            events_index.append(i)\n",
    "    events_index_orig = events_index + [1899]\n",
    "    events_index_shift = [0] + events_index\n",
    "    durations = np.array(events_index_orig) - np.array(events_index_shift)\n",
    "    return durations[1:]\n",
    "\n",
    "def durations_list(nfiles):\n",
    "    durations = []\n",
    "    for i in range(nfiles):\n",
    "        filename = f\"targets_attr_mvpa_{i + 1}.txt\"\n",
    "        data = pd.read_csv(filepath + filename, sep=\" \", header=None)\n",
    "        durations.append(get_duration(data[0]))\n",
    "\n",
    "    return [item for sublist in durations for item in sublist]\n",
    "\n",
    "scipy.stats.describe(durations_list(42))"
   ]
  },
  {
   "cell_type": "code",
   "execution_count": 116,
   "metadata": {},
   "outputs": [
    {
     "data": {
      "text/plain": [
       "{'whiskers': [<matplotlib.lines.Line2D at 0x1a21f5fc18>,\n",
       "  <matplotlib.lines.Line2D at 0x1a21f80a20>],\n",
       " 'caps': [<matplotlib.lines.Line2D at 0x1a21f93358>,\n",
       "  <matplotlib.lines.Line2D at 0x1a21f70160>],\n",
       " 'boxes': [<matplotlib.lines.Line2D at 0x1a21f5fd68>],\n",
       " 'medians': [<matplotlib.lines.Line2D at 0x1a21f70080>],\n",
       " 'fliers': [<matplotlib.lines.Line2D at 0x1a21f46710>],\n",
       " 'means': []}"
      ]
     },
     "execution_count": 116,
     "metadata": {},
     "output_type": "execute_result"
    },
    {
     "data": {
      "image/png": "[encoded data removed]",
      "text/plain": [
       "<Figure size 432x288 with 1 Axes>"
      ]
     },
     "metadata": {
      "needs_background": "light"
     },
     "output_type": "display_data"
    }
   ],
   "source": [
    "y = durations_list(42)\n",
    "fig1, ax1 = plt.subplots()\n",
    "ax1.set_title('Durations of Events')\n",
    "ax1.boxplot(y)"
   ]
  },
  {
   "cell_type": "code",
   "execution_count": null,
   "metadata": {},
   "outputs": [],
   "source": []
  }
 ],
 "metadata": {
  "kernelspec": {
   "display_name": "Python 3",
   "language": "python",
   "name": "python3"
  },
  "language_info": {
   "codemirror_mode": {
    "name": "ipython",
    "version": 3
   },
   "file_extension": ".py",
   "mimetype": "text/x-python",
   "name": "python",
   "nbconvert_exporter": "python",
   "pygments_lexer": "ipython3",
   "version": "3.7.2"
  }
 },
 "nbformat": 4,
 "nbformat_minor": 2
}
