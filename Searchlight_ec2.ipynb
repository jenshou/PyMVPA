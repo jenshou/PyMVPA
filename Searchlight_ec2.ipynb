{
 "cells": [
  {
   "cell_type": "code",
   "execution_count": 1,
   "metadata": {},
   "outputs": [],
   "source": [
    "import os\n",
    "import pandas as pd\n",
    "import numpy as np\n",
    "import nipy\n",
    "from mvpa2.suite import * # Production code should import functions individually.\n",
    "import seaborn as sns\n",
    "import matplotlib.pyplot as plt"
   ]
  },
  {
   "cell_type": "code",
   "execution_count": 2,
   "metadata": {},
   "outputs": [],
   "source": [
    "from sklearn import metrics # For calculating AUROC\n",
    "from sklearn.linear_model.logistic import LogisticRegression \n",
    "from sklearn import neighbors\n",
    "from sklearn.svm import SVC"
   ]
  },
  {
   "cell_type": "markdown",
   "metadata": {},
   "source": [
    "#### Load Data"
   ]
  },
  {
   "cell_type": "code",
   "execution_count": 3,
   "metadata": {},
   "outputs": [],
   "source": [
    "def load_data(subject_number):\n",
    "    \"\"\"Returns an fmri dataset object containing data of all 10 runs for a particular subject.\"\"\"\n",
    "    \n",
    "    cwd = '/home/fmri-data'\n",
    "    data_path = os.path.join(cwd,\"mvpa_\"+str(subject_number))\n",
    "\n",
    "    # Load the sample attributes\n",
    "    attr_fname = \"targets_attr_mvpa_\"+str(subject_number)+\".txt\"\n",
    "    attr_path = os.path.join(data_path, attr_fname)\n",
    "    attr = SampleAttributes(attr_path) # PyMVPA convenience function to read attribute files.\n",
    "\n",
    "    # Load all 10 runs from one subject into one fMRI dataset\n",
    "    file_path_list = list() # file path list to each run\n",
    "    for i in range(1,11):\n",
    "        run_name = \"run\"+str(i)\n",
    "        fname = run_name +\"_native.nii.gz\"\n",
    "        filepath = os.path.join(data_path, fname)\n",
    "        file_path_list.append(filepath)\n",
    "\n",
    "    # fMRI dataset format is convenient and vital for using PyMVPA.\n",
    "    ds = fmri_dataset(file_path_list,targets=attr.targets,chunks=attr.chunks)\n",
    "    return ds"
   ]
  },
  {
   "cell_type": "code",
   "execution_count": 4,
   "metadata": {},
   "outputs": [
    {
     "name": "stdout",
     "output_type": "stream",
     "text": [
      "WARNING: Detected incorrect (nan) scl_ fields. Resetting to scl_slope=1.0 and scl_inter=0.0\n",
      " * Please note: warnings are printed only once, but underlying problem might occur many times *\n"
     ]
    }
   ],
   "source": [
    "# for subject_number in range(1,43):\n",
    "        # Load the BOLD data for all 10 runs of a given subject\n",
    "ds = load_data(1)"
   ]
  },
  {
   "cell_type": "code",
   "execution_count": 5,
   "metadata": {},
   "outputs": [],
   "source": [
    "ds_cp = ds.copy(deep=False,\n",
    "                       sa=['targets', 'chunks'],\n",
    "                       fa=['voxel_indices'],\n",
    "                       a=['mapper'])"
   ]
  },
  {
   "cell_type": "code",
   "execution_count": null,
   "metadata": {},
   "outputs": [
    {
     "name": "stdout",
     "output_type": "stream",
     "text": [
      "WARNING: kNN: input data is in integers. Overflow on arithmetic operations might result in errors. Please convert dataset's samples into floating datatype if any error is reported.\n"
     ]
    },
    {
     "name": "stderr",
     "output_type": "stream",
     "text": [
      "/root/anaconda2/lib/python2.7/site-packages/mvpa2/clfs/distance.py:257: RuntimeWarning: divide by zero encountered in divide\n",
      "  Zx /= np.c_[X.std(axis=1)]\n",
      "/root/anaconda2/lib/python2.7/site-packages/mvpa2/clfs/distance.py:257: RuntimeWarning: invalid value encountered in divide\n",
      "  Zx /= np.c_[X.std(axis=1)]\n",
      "/root/anaconda2/lib/python2.7/site-packages/mvpa2/clfs/distance.py:259: RuntimeWarning: divide by zero encountered in divide\n",
      "  Zy /= np.c_[Y.std(axis=1)]\n",
      "/root/anaconda2/lib/python2.7/site-packages/mvpa2/clfs/distance.py:259: RuntimeWarning: invalid value encountered in divide\n",
      "  Zy /= np.c_[Y.std(axis=1)]\n"
     ]
    }
   ],
   "source": [
    "clf = kNN(k=1, dfx=one_minus_correlation, voting='majority')\n",
    "cv = CrossValidation(clf, HalfPartitioner())\n",
    "sl = sphere_searchlight(cv, radius=3, postproc=mean_sample())\n",
    "sl_map = sl(ds_cp)"
   ]
  },
  {
   "cell_type": "code",
   "execution_count": null,
   "metadata": {},
   "outputs": [],
   "source": [
    "# write out to nifti image\n",
    "niftiresults = map2nifti(sl_map, imghdr=ds.a.imghdr)\n",
    "niftiresults.to_filename('mytest_sl_imghdr.nii.gz')"
   ]
  },
  {
   "cell_type": "code",
   "execution_count": null,
   "metadata": {},
   "outputs": [],
   "source": []
  }
 ],
 "metadata": {
  "kernelspec": {
   "display_name": "Python 2",
   "language": "python",
   "name": "python2"
  },
  "language_info": {
   "codemirror_mode": {
    "name": "ipython",
    "version": 2
   },
   "file_extension": ".py",
   "mimetype": "text/x-python",
   "name": "python",
   "nbconvert_exporter": "python",
   "pygments_lexer": "ipython2",
   "version": "2.7.15"
  }
 },
 "nbformat": 4,
 "nbformat_minor": 2
}
